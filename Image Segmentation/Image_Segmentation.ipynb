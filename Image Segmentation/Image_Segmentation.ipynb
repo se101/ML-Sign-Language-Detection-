{
 "cells": [
  {
   "cell_type": "code",
   "execution_count": 1,
   "metadata": {},
   "outputs": [],
   "source": [
    "import numpy as np\n",
    "import pandas as pd\n",
    "import matplotlib.pyplot as plt\n",
    "%matplotlib inline\n",
    "import seaborn as sns"
   ]
  },
  {
   "cell_type": "code",
   "execution_count": 2,
   "metadata": {},
   "outputs": [],
   "source": [
    "from sklearn.model_selection import train_test_split\n",
    "from sklearn.neighbors import KNeighborsClassifier\n",
    "from sklearn.metrics import classification_report, confusion_matrix"
   ]
  },
  {
   "cell_type": "code",
   "execution_count": 3,
   "metadata": {
    "scrolled": false
   },
   "outputs": [
    {
     "data": {
      "text/html": [
       "<div>\n",
       "<style scoped>\n",
       "    .dataframe tbody tr th:only-of-type {\n",
       "        vertical-align: middle;\n",
       "    }\n",
       "\n",
       "    .dataframe tbody tr th {\n",
       "        vertical-align: top;\n",
       "    }\n",
       "\n",
       "    .dataframe thead th {\n",
       "        text-align: right;\n",
       "    }\n",
       "</style>\n",
       "<table border=\"1\" class=\"dataframe\">\n",
       "  <thead>\n",
       "    <tr style=\"text-align: right;\">\n",
       "      <th></th>\n",
       "      <th>B</th>\n",
       "      <th>R</th>\n",
       "      <th>G</th>\n",
       "      <th>skin_nonskin</th>\n",
       "    </tr>\n",
       "  </thead>\n",
       "  <tbody>\n",
       "    <tr>\n",
       "      <th>245052</th>\n",
       "      <td>163</td>\n",
       "      <td>162</td>\n",
       "      <td>112</td>\n",
       "      <td>2</td>\n",
       "    </tr>\n",
       "    <tr>\n",
       "      <th>245053</th>\n",
       "      <td>163</td>\n",
       "      <td>162</td>\n",
       "      <td>112</td>\n",
       "      <td>2</td>\n",
       "    </tr>\n",
       "    <tr>\n",
       "      <th>245054</th>\n",
       "      <td>163</td>\n",
       "      <td>162</td>\n",
       "      <td>112</td>\n",
       "      <td>2</td>\n",
       "    </tr>\n",
       "    <tr>\n",
       "      <th>245055</th>\n",
       "      <td>163</td>\n",
       "      <td>162</td>\n",
       "      <td>112</td>\n",
       "      <td>2</td>\n",
       "    </tr>\n",
       "    <tr>\n",
       "      <th>245056</th>\n",
       "      <td>255</td>\n",
       "      <td>255</td>\n",
       "      <td>255</td>\n",
       "      <td>2</td>\n",
       "    </tr>\n",
       "  </tbody>\n",
       "</table>\n",
       "</div>"
      ],
      "text/plain": [
       "          B    R    G  skin_nonskin\n",
       "245052  163  162  112             2\n",
       "245053  163  162  112             2\n",
       "245054  163  162  112             2\n",
       "245055  163  162  112             2\n",
       "245056  255  255  255             2"
      ]
     },
     "execution_count": 3,
     "metadata": {},
     "output_type": "execute_result"
    }
   ],
   "source": [
    "# create data frame from txt file\n",
    "skin = pd.read_csv(\"Skin_NonSkin.txt\", delimiter=\"\\t\", names=(\"B\", \"R\", \"G\", \"skin_nonskin\")) # 1=nonSkin , 2=skin\n",
    "skin.tail()"
   ]
  },
  {
   "cell_type": "code",
   "execution_count": 4,
   "metadata": {},
   "outputs": [],
   "source": [
    "# replace values in skin_nonskin column for interpretability\n",
    "for i in skin[\"skin_nonskin\"]: # skin = 0 , non-skin = 1\n",
    "    if i == 2:\n",
    "        skin.replace(to_replace=[2], value=[0], inplace=True) "
   ]
  },
  {
   "cell_type": "code",
   "execution_count": 5,
   "metadata": {},
   "outputs": [
    {
     "data": {
      "text/html": [
       "<div>\n",
       "<style scoped>\n",
       "    .dataframe tbody tr th:only-of-type {\n",
       "        vertical-align: middle;\n",
       "    }\n",
       "\n",
       "    .dataframe tbody tr th {\n",
       "        vertical-align: top;\n",
       "    }\n",
       "\n",
       "    .dataframe thead th {\n",
       "        text-align: right;\n",
       "    }\n",
       "</style>\n",
       "<table border=\"1\" class=\"dataframe\">\n",
       "  <thead>\n",
       "    <tr style=\"text-align: right;\">\n",
       "      <th></th>\n",
       "      <th>B</th>\n",
       "      <th>R</th>\n",
       "      <th>G</th>\n",
       "      <th>skin_nonskin</th>\n",
       "    </tr>\n",
       "  </thead>\n",
       "  <tbody>\n",
       "    <tr>\n",
       "      <th>245052</th>\n",
       "      <td>163</td>\n",
       "      <td>162</td>\n",
       "      <td>112</td>\n",
       "      <td>0</td>\n",
       "    </tr>\n",
       "    <tr>\n",
       "      <th>245053</th>\n",
       "      <td>163</td>\n",
       "      <td>162</td>\n",
       "      <td>112</td>\n",
       "      <td>0</td>\n",
       "    </tr>\n",
       "    <tr>\n",
       "      <th>245054</th>\n",
       "      <td>163</td>\n",
       "      <td>162</td>\n",
       "      <td>112</td>\n",
       "      <td>0</td>\n",
       "    </tr>\n",
       "    <tr>\n",
       "      <th>245055</th>\n",
       "      <td>163</td>\n",
       "      <td>162</td>\n",
       "      <td>112</td>\n",
       "      <td>0</td>\n",
       "    </tr>\n",
       "    <tr>\n",
       "      <th>245056</th>\n",
       "      <td>255</td>\n",
       "      <td>255</td>\n",
       "      <td>255</td>\n",
       "      <td>0</td>\n",
       "    </tr>\n",
       "  </tbody>\n",
       "</table>\n",
       "</div>"
      ],
      "text/plain": [
       "          B    R    G  skin_nonskin\n",
       "245052  163  162  112             0\n",
       "245053  163  162  112             0\n",
       "245054  163  162  112             0\n",
       "245055  163  162  112             0\n",
       "245056  255  255  255             0"
      ]
     },
     "execution_count": 5,
     "metadata": {},
     "output_type": "execute_result"
    }
   ],
   "source": [
    "skin.tail()"
   ]
  },
  {
   "cell_type": "code",
   "execution_count": 6,
   "metadata": {
    "scrolled": true
   },
   "outputs": [
    {
     "data": {
      "text/plain": [
       "0    194198\n",
       "1     50859\n",
       "Name: skin_nonskin, dtype: int64"
      ]
     },
     "execution_count": 6,
     "metadata": {},
     "output_type": "execute_result"
    }
   ],
   "source": [
    "skin['skin_nonskin'].value_counts()"
   ]
  },
  {
   "cell_type": "code",
   "execution_count": 7,
   "metadata": {},
   "outputs": [
    {
     "data": {
      "text/plain": [
       "245057"
      ]
     },
     "execution_count": 7,
     "metadata": {},
     "output_type": "execute_result"
    }
   ],
   "source": [
    "len(skin)"
   ]
  },
  {
   "cell_type": "code",
   "execution_count": 8,
   "metadata": {},
   "outputs": [
    {
     "data": {
      "text/html": [
       "<div>\n",
       "<style scoped>\n",
       "    .dataframe tbody tr th:only-of-type {\n",
       "        vertical-align: middle;\n",
       "    }\n",
       "\n",
       "    .dataframe tbody tr th {\n",
       "        vertical-align: top;\n",
       "    }\n",
       "\n",
       "    .dataframe thead th {\n",
       "        text-align: right;\n",
       "    }\n",
       "</style>\n",
       "<table border=\"1\" class=\"dataframe\">\n",
       "  <thead>\n",
       "    <tr style=\"text-align: right;\">\n",
       "      <th></th>\n",
       "      <th>B</th>\n",
       "      <th>R</th>\n",
       "      <th>G</th>\n",
       "      <th>skin_nonskin</th>\n",
       "    </tr>\n",
       "  </thead>\n",
       "  <tbody>\n",
       "    <tr>\n",
       "      <th>count</th>\n",
       "      <td>245057.000000</td>\n",
       "      <td>245057.000000</td>\n",
       "      <td>245057.000000</td>\n",
       "      <td>245057.000000</td>\n",
       "    </tr>\n",
       "    <tr>\n",
       "      <th>mean</th>\n",
       "      <td>125.055008</td>\n",
       "      <td>132.498953</td>\n",
       "      <td>123.163284</td>\n",
       "      <td>0.207539</td>\n",
       "    </tr>\n",
       "    <tr>\n",
       "      <th>std</th>\n",
       "      <td>62.276451</td>\n",
       "      <td>59.959565</td>\n",
       "      <td>72.585507</td>\n",
       "      <td>0.405546</td>\n",
       "    </tr>\n",
       "    <tr>\n",
       "      <th>min</th>\n",
       "      <td>0.000000</td>\n",
       "      <td>0.000000</td>\n",
       "      <td>0.000000</td>\n",
       "      <td>0.000000</td>\n",
       "    </tr>\n",
       "    <tr>\n",
       "      <th>25%</th>\n",
       "      <td>68.000000</td>\n",
       "      <td>87.000000</td>\n",
       "      <td>70.000000</td>\n",
       "      <td>0.000000</td>\n",
       "    </tr>\n",
       "    <tr>\n",
       "      <th>50%</th>\n",
       "      <td>139.000000</td>\n",
       "      <td>153.000000</td>\n",
       "      <td>128.000000</td>\n",
       "      <td>0.000000</td>\n",
       "    </tr>\n",
       "    <tr>\n",
       "      <th>75%</th>\n",
       "      <td>176.000000</td>\n",
       "      <td>177.000000</td>\n",
       "      <td>164.000000</td>\n",
       "      <td>0.000000</td>\n",
       "    </tr>\n",
       "    <tr>\n",
       "      <th>max</th>\n",
       "      <td>255.000000</td>\n",
       "      <td>255.000000</td>\n",
       "      <td>255.000000</td>\n",
       "      <td>1.000000</td>\n",
       "    </tr>\n",
       "  </tbody>\n",
       "</table>\n",
       "</div>"
      ],
      "text/plain": [
       "                   B              R              G   skin_nonskin\n",
       "count  245057.000000  245057.000000  245057.000000  245057.000000\n",
       "mean      125.055008     132.498953     123.163284       0.207539\n",
       "std        62.276451      59.959565      72.585507       0.405546\n",
       "min         0.000000       0.000000       0.000000       0.000000\n",
       "25%        68.000000      87.000000      70.000000       0.000000\n",
       "50%       139.000000     153.000000     128.000000       0.000000\n",
       "75%       176.000000     177.000000     164.000000       0.000000\n",
       "max       255.000000     255.000000     255.000000       1.000000"
      ]
     },
     "execution_count": 8,
     "metadata": {},
     "output_type": "execute_result"
    }
   ],
   "source": [
    "skin.describe()"
   ]
  },
  {
   "cell_type": "markdown",
   "metadata": {},
   "source": [
    "## Data Visualization"
   ]
  },
  {
   "cell_type": "code",
   "execution_count": 9,
   "metadata": {
    "scrolled": false
   },
   "outputs": [
    {
     "data": {
      "text/plain": [
       "Text(0.5, 0, 'B')"
      ]
     },
     "execution_count": 9,
     "metadata": {},
     "output_type": "execute_result"
    },
    {
     "data": {
      "image/png": "[encoded data removed]",
      "text/plain": [
       "<Figure size 720x432 with 1 Axes>"
      ]
     },
     "metadata": {
      "needs_background": "light"
     },
     "output_type": "display_data"
    }
   ],
   "source": [
    "# bar plot for B values\n",
    "plt.figure(figsize=(10,6))\n",
    "skin[skin[\"skin_nonskin\"]==1][\"B\"].hist(alpha=0.5, color=\"blue\", bins=30, label=\"nonskin=1\" )\n",
    "skin[skin[\"skin_nonskin\"]==0][\"B\"].hist(alpha=0.5, color=\"red\", bins=30, label=\"skin=0\" )\n",
    "plt.legend()\n",
    "plt.xlabel(\"B\")"
   ]
  },
  {
   "cell_type": "code",
   "execution_count": 10,
   "metadata": {},
   "outputs": [
    {
     "data": {
      "text/plain": [
       "Text(0.5, 0, 'R')"
      ]
     },
     "execution_count": 10,
     "metadata": {},
     "output_type": "execute_result"
    },
    {
     "data": {
      "image/png": "[encoded data removed]",
      "text/plain": [
       "<Figure size 720x432 with 1 Axes>"
      ]
     },
     "metadata": {
      "needs_background": "light"
     },
     "output_type": "display_data"
    }
   ],
   "source": [
    "# bar plot for R values\n",
    "plt.figure(figsize=(10,6))\n",
    "skin[skin[\"skin_nonskin\"]==1][\"R\"].hist(alpha=0.5, color=\"blue\", bins=30, label=\"nonskin=1\" )\n",
    "skin[skin[\"skin_nonskin\"]==0][\"R\"].hist(alpha=0.5, color=\"red\", bins=30, label=\"skin=0\" )\n",
    "plt.legend()\n",
    "plt.xlabel(\"R\")"
   ]
  },
  {
   "cell_type": "code",
   "execution_count": 11,
   "metadata": {},
   "outputs": [
    {
     "data": {
      "text/plain": [
       "Text(0.5, 0, 'G')"
      ]
     },
     "execution_count": 11,
     "metadata": {},
     "output_type": "execute_result"
    },
    {
     "data": {
      "image/png": "[encoded data removed]",
      "text/plain": [
       "<Figure size 720x432 with 1 Axes>"
      ]
     },
     "metadata": {
      "needs_background": "light"
     },
     "output_type": "display_data"
    }
   ],
   "source": [
    "# bar plot for G values\n",
    "plt.figure(figsize=(10,6))\n",
    "skin[skin[\"skin_nonskin\"]==1][\"G\"].hist(alpha=0.5, color=\"blue\", bins=30, label=\"nonskin=1\" )\n",
    "skin[skin[\"skin_nonskin\"]==0][\"G\"].hist(alpha=0.5, color=\"red\", bins=30, label=\"skin=0\" )\n",
    "plt.legend()\n",
    "plt.xlabel(\"G\")"
   ]
  },
  {
   "cell_type": "code",
   "execution_count": 12,
   "metadata": {
    "scrolled": true
   },
   "outputs": [
    {
     "data": {
      "text/plain": [
       "0    194198\n",
       "1     50859\n",
       "Name: skin_nonskin, dtype: int64"
      ]
     },
     "execution_count": 12,
     "metadata": {},
     "output_type": "execute_result"
    }
   ],
   "source": [
    "skin[\"skin_nonskin\"].value_counts()"
   ]
  },
  {
   "cell_type": "markdown",
   "metadata": {},
   "source": [
    "1 is non skin and 0 is skin. From this we can see that our dataset is unbalanced. The skin data is way more higher than non skin. "
   ]
  },
  {
   "cell_type": "markdown",
   "metadata": {},
   "source": [
    "# Dataset Cleaning  \n",
    "Clean your data. See Hands-on Machine Learning with ScikitLearn &\n",
    "TensorFlow (Pages 59-66)  \n",
    "Describe how you have handled the outliers if there exists any."
   ]
  },
  {
   "cell_type": "markdown",
   "metadata": {},
   "source": [
    "## Find outliers"
   ]
  },
  {
   "cell_type": "code",
   "execution_count": 13,
   "metadata": {},
   "outputs": [
    {
     "data": {
      "text/plain": [
       "<AxesSubplot:>"
      ]
     },
     "execution_count": 13,
     "metadata": {},
     "output_type": "execute_result"
    },
    {
     "data": {
      "image/png": "[encoded data removed]",
      "text/plain": [
       "<Figure size 432x288 with 1 Axes>"
      ]
     },
     "metadata": {
      "needs_background": "light"
     },
     "output_type": "display_data"
    }
   ],
   "source": [
    "sns.boxplot(data=skin)# we can see no data outside the range of 0 -250"
   ]
  },
  {
   "cell_type": "code",
   "execution_count": 14,
   "metadata": {},
   "outputs": [],
   "source": [
    "anomalies = []\n",
    "# Function to Detection Outlier on one-dimentional datasets.\n",
    "def findOutliers(data):\n",
    "    # Set upper and lower limit to 3 standard deviation\n",
    "    data_std = np.std(data)\n",
    "    data_mean = np.mean(data)\n",
    "    cut_off = data_std * 3\n",
    "    \n",
    "    lower_limit  = data_mean - cut_off \n",
    "    upper_limit = data_mean + cut_off\n",
    "#     print(lower_limit)\n",
    "    # Generate outliers\n",
    "    for x in data:\n",
    "        if x > upper_limit or x < lower_limit:\n",
    "            anomalies.append(x)\n",
    "    return anomalies\n",
    "\n"
   ]
  },
  {
   "cell_type": "code",
   "execution_count": 15,
   "metadata": {},
   "outputs": [
    {
     "data": {
      "text/plain": [
       "[]"
      ]
     },
     "execution_count": 15,
     "metadata": {},
     "output_type": "execute_result"
    }
   ],
   "source": [
    "findOutliers(skin[\"B\"])"
   ]
  },
  {
   "cell_type": "code",
   "execution_count": 16,
   "metadata": {},
   "outputs": [
    {
     "data": {
      "text/plain": [
       "[]"
      ]
     },
     "execution_count": 16,
     "metadata": {},
     "output_type": "execute_result"
    }
   ],
   "source": [
    "findOutliers(skin[\"R\"])"
   ]
  },
  {
   "cell_type": "code",
   "execution_count": 17,
   "metadata": {},
   "outputs": [
    {
     "data": {
      "text/plain": [
       "[]"
      ]
     },
     "execution_count": 17,
     "metadata": {},
     "output_type": "execute_result"
    }
   ],
   "source": [
    "findOutliers(skin[\"G\"])"
   ]
  },
  {
   "cell_type": "markdown",
   "metadata": {},
   "source": [
    "The predictiors don't exist any outliers."
   ]
  },
  {
   "cell_type": "markdown",
   "metadata": {},
   "source": [
    "## Pre- Processing"
   ]
  },
  {
   "cell_type": "markdown",
   "metadata": {},
   "source": [
    "### Train_Test_Split  \n",
    "regular data. "
   ]
  },
  {
   "cell_type": "code",
   "execution_count": 18,
   "metadata": {},
   "outputs": [],
   "source": [
    "X= skin[['B', \"R\", 'G']]\n",
    "y = skin[\"skin_nonskin\"]\n",
    "X_train, X_test, y_train, y_test = train_test_split(X, y, test_size=0.3, random_state=101)"
   ]
  },
  {
   "cell_type": "markdown",
   "metadata": {},
   "source": [
    "### Data Normalization   \n",
    "Standardization of a dataset is a common requirement for many machine learning estimators: they might behave badly if the individual features do not more or less look like standard normally distributed data (e.g. Gaussian with 0 mean and unit variance) . From:https://scikit-learn.org/"
   ]
  },
  {
   "cell_type": "code",
   "execution_count": 19,
   "metadata": {
    "scrolled": true
   },
   "outputs": [
    {
     "data": {
      "text/html": [
       "<div>\n",
       "<style scoped>\n",
       "    .dataframe tbody tr th:only-of-type {\n",
       "        vertical-align: middle;\n",
       "    }\n",
       "\n",
       "    .dataframe tbody tr th {\n",
       "        vertical-align: top;\n",
       "    }\n",
       "\n",
       "    .dataframe thead th {\n",
       "        text-align: right;\n",
       "    }\n",
       "</style>\n",
       "<table border=\"1\" class=\"dataframe\">\n",
       "  <thead>\n",
       "    <tr style=\"text-align: right;\">\n",
       "      <th></th>\n",
       "      <th>B</th>\n",
       "      <th>R</th>\n",
       "      <th>G</th>\n",
       "    </tr>\n",
       "  </thead>\n",
       "  <tbody>\n",
       "    <tr>\n",
       "      <th>0</th>\n",
       "      <td>-0.819814</td>\n",
       "      <td>-0.792185</td>\n",
       "      <td>-0.002250</td>\n",
       "    </tr>\n",
       "    <tr>\n",
       "      <th>1</th>\n",
       "      <td>-0.835872</td>\n",
       "      <td>-0.808863</td>\n",
       "      <td>-0.016026</td>\n",
       "    </tr>\n",
       "    <tr>\n",
       "      <th>2</th>\n",
       "      <td>-0.851929</td>\n",
       "      <td>-0.825541</td>\n",
       "      <td>-0.029803</td>\n",
       "    </tr>\n",
       "    <tr>\n",
       "      <th>3</th>\n",
       "      <td>-0.884044</td>\n",
       "      <td>-0.858896</td>\n",
       "      <td>-0.057357</td>\n",
       "    </tr>\n",
       "    <tr>\n",
       "      <th>4</th>\n",
       "      <td>-0.884044</td>\n",
       "      <td>-0.858896</td>\n",
       "      <td>-0.057357</td>\n",
       "    </tr>\n",
       "  </tbody>\n",
       "</table>\n",
       "</div>"
      ],
      "text/plain": [
       "          B         R         G\n",
       "0 -0.819814 -0.792185 -0.002250\n",
       "1 -0.835872 -0.808863 -0.016026\n",
       "2 -0.851929 -0.825541 -0.029803\n",
       "3 -0.884044 -0.858896 -0.057357\n",
       "4 -0.884044 -0.858896 -0.057357"
      ]
     },
     "execution_count": 19,
     "metadata": {},
     "output_type": "execute_result"
    }
   ],
   "source": [
    "from sklearn.preprocessing import StandardScaler # Standardized  the predictors\n",
    "scaler = StandardScaler()\n",
    "d = skin.drop(\"skin_nonskin\", axis=1)\n",
    "scaler.fit(d)\n",
    "scaled_features= scaler.transform(d)\n",
    "skindf = pd.DataFrame(scaled_features, columns = skin.columns[:-1])\n",
    "skindf.head()"
   ]
  },
  {
   "cell_type": "code",
   "execution_count": 20,
   "metadata": {
    "scrolled": true
   },
   "outputs": [
    {
     "data": {
      "text/plain": [
       "2.086587409228484"
      ]
     },
     "execution_count": 20,
     "metadata": {},
     "output_type": "execute_result"
    }
   ],
   "source": [
    "max(skindf.B)"
   ]
  },
  {
   "cell_type": "code",
   "execution_count": 21,
   "metadata": {
    "scrolled": true
   },
   "outputs": [
    {
     "data": {
      "text/plain": [
       "-2.008066640681269"
      ]
     },
     "execution_count": 21,
     "metadata": {},
     "output_type": "execute_result"
    }
   ],
   "source": [
    "min(skindf.B)"
   ]
  },
  {
   "cell_type": "code",
   "execution_count": 22,
   "metadata": {},
   "outputs": [],
   "source": [
    "# create scaled data set\n",
    "y = skin[\"skin_nonskin\"]\n",
    "scaled_X_train, scaled_X_test, scaled_y_train, scaled_y_test = train_test_split(skindf,y, test_size=0.3, random_state=101)"
   ]
  },
  {
   "cell_type": "markdown",
   "metadata": {},
   "source": [
    "# Feature Extraction  \n",
    "Extract (eliminate) features using different methods we learned in class"
   ]
  },
  {
   "cell_type": "code",
   "execution_count": 23,
   "metadata": {},
   "outputs": [
    {
     "data": {
      "text/plain": [
       "array([0.22859603, 0.21772135, 0.55368262])"
      ]
     },
     "execution_count": 23,
     "metadata": {},
     "output_type": "execute_result"
    }
   ],
   "source": [
    "from sklearn.ensemble import RandomForestClassifier\n",
    "# feature evaluation\n",
    "rfc2 = RandomForestClassifier(n_estimators=100, max_depth=10, random_state=0)\n",
    "rfc2.fit(X,y)\n",
    "rfc2.feature_importances_"
   ]
  },
  {
   "cell_type": "code",
   "execution_count": 24,
   "metadata": {},
   "outputs": [
    {
     "data": {
      "image/png": "[encoded data removed]",
      "text/plain": [
       "<Figure size 432x288 with 1 Axes>"
      ]
     },
     "metadata": {
      "needs_background": "light"
     },
     "output_type": "display_data"
    }
   ],
   "source": [
    "Importance = pd.DataFrame({'Importance':rfc2.feature_importances_*100}, index=X.columns)\n",
    "Importance.sort_values('Importance', axis=0, ascending=True).plot(kind='barh', color='green', )\n",
    "plt.xlabel('Variable Importance')\n",
    "plt.gca().legend_ = None"
   ]
  },
  {
   "cell_type": "markdown",
   "metadata": {},
   "source": [
    "# Model Development (4 models)  \n",
    "Select and train at least FOUR different classification models (models should\n",
    "be part of course syllabus, see the list below for possible models)."
   ]
  },
  {
   "cell_type": "markdown",
   "metadata": {},
   "source": [
    "### Logistic Regression"
   ]
  },
  {
   "cell_type": "markdown",
   "metadata": {},
   "source": [
    "without normalization "
   ]
  },
  {
   "cell_type": "code",
   "execution_count": 25,
   "metadata": {},
   "outputs": [
    {
     "name": "stdout",
     "output_type": "stream",
     "text": [
      "              precision    recall  f1-score   support\n",
      "\n",
      "           0       0.95      0.94      0.95     58341\n",
      "           1       0.79      0.83      0.81     15177\n",
      "\n",
      "    accuracy                           0.92     73518\n",
      "   macro avg       0.87      0.89      0.88     73518\n",
      "weighted avg       0.92      0.92      0.92     73518\n",
      "\n",
      "[[55077  3264]\n",
      " [ 2641 12536]]\n"
     ]
    }
   ],
   "source": [
    "#Logistic Regression Model\n",
    "from sklearn.linear_model import LogisticRegression\n",
    "logmodel = LogisticRegression()\n",
    "fit_model = logmodel.fit(X_train,y_train)\n",
    "log_predictions = logmodel.predict(X_test)\n",
    "print(classification_report(y_test,log_predictions))\n",
    "print(confusion_matrix(y_test,log_predictions))"
   ]
  },
  {
   "cell_type": "code",
   "execution_count": 26,
   "metadata": {
    "scrolled": true
   },
   "outputs": [
    {
     "data": {
      "text/plain": [
       "0.9196795342637177"
      ]
     },
     "execution_count": 26,
     "metadata": {},
     "output_type": "execute_result"
    }
   ],
   "source": [
    "from sklearn.metrics import accuracy_score\n",
    "accuracy_score(y_test,log_predictions)"
   ]
  },
  {
   "cell_type": "markdown",
   "metadata": {},
   "source": [
    "The test result from the output of normalized data and without normalized data are exactly the same. "
   ]
  },
  {
   "cell_type": "markdown",
   "metadata": {},
   "source": [
    "### KNN"
   ]
  },
  {
   "cell_type": "markdown",
   "metadata": {},
   "source": [
    "Standardization of a dataset is a common requirement for many machine learning estimators: they might behave badly if the individual features do not more or less look like standard normally distributed data (e.g. Gaussian with 0 mean and unit variance) . From:https://scikit-learn.org/"
   ]
  },
  {
   "cell_type": "code",
   "execution_count": 27,
   "metadata": {},
   "outputs": [],
   "source": [
    "# KNN model\n",
    "error_rate1=[]  # choose the best k within 1 to 20\n",
    "for i in range(1,20):\n",
    "    knn= KNeighborsClassifier(n_neighbors=i)\n",
    "    knn.fit(X_train,y_train)\n",
    "    pred_i = knn.predict(X_test)\n",
    "    error_rate1.append(np.mean(pred_i !=y_test))"
   ]
  },
  {
   "cell_type": "code",
   "execution_count": 28,
   "metadata": {
    "scrolled": false
   },
   "outputs": [
    {
     "data": {
      "text/plain": [
       "Text(0, 0.5, 'Error Rate')"
      ]
     },
     "execution_count": 28,
     "metadata": {},
     "output_type": "execute_result"
    },
    {
     "data": {
      "image/png": "[encoded data removed]",
      "text/plain": [
       "<Figure size 720x432 with 1 Axes>"
      ]
     },
     "metadata": {
      "needs_background": "light"
     },
     "output_type": "display_data"
    }
   ],
   "source": [
    "# Evaluate KNN alternative values\n",
    "plt.figure(figsize=(10,6)) \n",
    "plt.plot(range(1,20), error_rate1, color=\"blue\",marker=\"o\", markerfacecolor=\"red\", markersize=10)\n",
    "plt.title(\"Error Rate vs K value\")\n",
    "plt.xlabel(\"K\")\n",
    "plt.ylabel(\"Error Rate\")"
   ]
  },
  {
   "cell_type": "markdown",
   "metadata": {},
   "source": [
    "From the plot we can see that K=1 is the best which provide the lowest error rate. As the K neighobour is bigger the error rate is higher."
   ]
  },
  {
   "cell_type": "code",
   "execution_count": 29,
   "metadata": {},
   "outputs": [
    {
     "name": "stdout",
     "output_type": "stream",
     "text": [
      "[[58316    25]\n",
      " [   10 15167]]\n",
      "              precision    recall  f1-score   support\n",
      "\n",
      "           0       1.00      1.00      1.00     58341\n",
      "           1       1.00      1.00      1.00     15177\n",
      "\n",
      "    accuracy                           1.00     73518\n",
      "   macro avg       1.00      1.00      1.00     73518\n",
      "weighted avg       1.00      1.00      1.00     73518\n",
      "\n"
     ]
    }
   ],
   "source": [
    "# k = 1\n",
    "knn= KNeighborsClassifier(n_neighbors= 1) \n",
    "knn.fit(X_train,y_train)\n",
    "knn_pred = knn.predict(X_test)\n",
    "print(confusion_matrix(y_test, knn_pred))\n",
    "print(classification_report(y_test,knn_pred))"
   ]
  },
  {
   "cell_type": "code",
   "execution_count": 30,
   "metadata": {
    "scrolled": true
   },
   "outputs": [
    {
     "name": "stdout",
     "output_type": "stream",
     "text": [
      "[[58309    32]\n",
      " [    5 15172]]\n",
      "              precision    recall  f1-score   support\n",
      "\n",
      "           0       1.00      1.00      1.00     58341\n",
      "           1       1.00      1.00      1.00     15177\n",
      "\n",
      "    accuracy                           1.00     73518\n",
      "   macro avg       1.00      1.00      1.00     73518\n",
      "weighted avg       1.00      1.00      1.00     73518\n",
      "\n"
     ]
    }
   ],
   "source": [
    "# k = 3\n",
    "knn3= KNeighborsClassifier(n_neighbors= 3) \n",
    "knn3.fit(scaled_X_train,scaled_y_train)\n",
    "knn3_pred = knn3.predict(scaled_X_test)\n",
    "print(confusion_matrix(scaled_y_test, knn3_pred))\n",
    "print(classification_report(scaled_y_test,knn3_pred))"
   ]
  },
  {
   "cell_type": "markdown",
   "metadata": {},
   "source": [
    "## Decision Trees"
   ]
  },
  {
   "cell_type": "markdown",
   "metadata": {},
   "source": []
  },
  {
   "cell_type": "code",
   "execution_count": 31,
   "metadata": {},
   "outputs": [],
   "source": [
    "from sklearn.tree import DecisionTreeClassifier"
   ]
  },
  {
   "cell_type": "code",
   "execution_count": 32,
   "metadata": {
    "scrolled": true
   },
   "outputs": [
    {
     "name": "stdout",
     "output_type": "stream",
     "text": [
      "[[58311    30]\n",
      " [   38 15139]]\n",
      "              precision    recall  f1-score   support\n",
      "\n",
      "           0       1.00      1.00      1.00     58341\n",
      "           1       1.00      1.00      1.00     15177\n",
      "\n",
      "    accuracy                           1.00     73518\n",
      "   macro avg       1.00      1.00      1.00     73518\n",
      "weighted avg       1.00      1.00      1.00     73518\n",
      "\n"
     ]
    }
   ],
   "source": [
    "# Decision tree model\n",
    "dtree= DecisionTreeClassifier()\n",
    "dtree.fit(X_train, y_train)\n",
    "tree_preds= dtree.predict(X_test)\n",
    "print(confusion_matrix(y_test, tree_preds))\n",
    "print(classification_report(y_test, tree_preds))"
   ]
  },
  {
   "cell_type": "markdown",
   "metadata": {},
   "source": [
    "##### used scaled values "
   ]
  },
  {
   "cell_type": "code",
   "execution_count": 33,
   "metadata": {
    "scrolled": false
   },
   "outputs": [
    {
     "name": "stdout",
     "output_type": "stream",
     "text": [
      "[[58310    31]\n",
      " [   37 15140]]\n",
      "              precision    recall  f1-score   support\n",
      "\n",
      "           0       1.00      1.00      1.00     58341\n",
      "           1       1.00      1.00      1.00     15177\n",
      "\n",
      "    accuracy                           1.00     73518\n",
      "   macro avg       1.00      1.00      1.00     73518\n",
      "weighted avg       1.00      1.00      1.00     73518\n",
      "\n"
     ]
    }
   ],
   "source": [
    "dtree= DecisionTreeClassifier()\n",
    "dtree.fit(scaled_X_train, scaled_y_train)\n",
    "scaled_tree_preds= dtree.predict(scaled_X_test)\n",
    "print(confusion_matrix(scaled_y_test, scaled_tree_preds))\n",
    "print(classification_report(scaled_y_test, scaled_tree_preds))"
   ]
  },
  {
   "cell_type": "code",
   "execution_count": 34,
   "metadata": {
    "scrolled": false
   },
   "outputs": [],
   "source": [
    "from IPython.display import Image  \n",
    "from six import StringIO  \n",
    "from sklearn.tree import export_graphviz\n",
    "import pydotplus\n",
    "from sklearn import tree\n"
   ]
  },
  {
   "cell_type": "code",
   "execution_count": 42,
   "metadata": {},
   "outputs": [],
   "source": [
    "# Graphviz vizualiation\n",
    "# dtc = DecisionTreeClassifier(max_depth=5) # draw decision tree  using DecisionTree Classifier\n",
    "# dtc.fit(X, y)\n",
    "# dot_data = StringIO()\n",
    "# export_graphviz(dtc, out_file=dot_data, feature_names=list(X.columns.values), class_names=None, filled=True)\n",
    "# graph = pydotplus.graphviz.graph_from_dot_data(dot_data.getvalue())\n",
    "# Image(graph.create_png())\n",
    "# graph.write_png('dec_tree_depth5.png')\n",
    "# img = plt.imread('dec_tree_depth5.png')\n",
    "# plt.rcParams[\"figure.figsize\"] = (20, 20)\n",
    "# plt.imshow(img)"
   ]
  },
  {
   "cell_type": "markdown",
   "metadata": {},
   "source": [
    "#### Random Forest"
   ]
  },
  {
   "cell_type": "code",
   "execution_count": 43,
   "metadata": {},
   "outputs": [],
   "source": [
    "from sklearn.ensemble import RandomForestClassifier"
   ]
  },
  {
   "cell_type": "code",
   "execution_count": 44,
   "metadata": {},
   "outputs": [
    {
     "name": "stdout",
     "output_type": "stream",
     "text": [
      "[[58317    24]\n",
      " [   10 15167]]\n",
      "              precision    recall  f1-score   support\n",
      "\n",
      "           0       1.00      1.00      1.00     58341\n",
      "           1       1.00      1.00      1.00     15177\n",
      "\n",
      "    accuracy                           1.00     73518\n",
      "   macro avg       1.00      1.00      1.00     73518\n",
      "weighted avg       1.00      1.00      1.00     73518\n",
      "\n"
     ]
    }
   ],
   "source": [
    "# Random Forest Model  B = 50\n",
    "rfc= RandomForestClassifier(n_estimators=50)\n",
    "rfc.fit(X_train,y_train)\n",
    "rfc_pred = rfc.predict(X_test)\n",
    "print(confusion_matrix(y_test, rfc_pred))\n",
    "print(classification_report(y_test, rfc_pred))"
   ]
  },
  {
   "cell_type": "code",
   "execution_count": 45,
   "metadata": {
    "scrolled": true
   },
   "outputs": [
    {
     "name": "stdout",
     "output_type": "stream",
     "text": [
      "[[58317    24]\n",
      " [   12 15165]]\n",
      "              precision    recall  f1-score   support\n",
      "\n",
      "           0       1.00      1.00      1.00     58341\n",
      "           1       1.00      1.00      1.00     15177\n",
      "\n",
      "    accuracy                           1.00     73518\n",
      "   macro avg       1.00      1.00      1.00     73518\n",
      "weighted avg       1.00      1.00      1.00     73518\n",
      "\n"
     ]
    }
   ],
   "source": [
    "# Random Forest model B = 100\n",
    "rfc= RandomForestClassifier(n_estimators=100)\n",
    "rfc.fit(X_train,y_train)\n",
    "rfc_pred = rfc.predict(X_test)\n",
    "print(confusion_matrix(y_test, rfc_pred))\n",
    "print(classification_report(y_test, rfc_pred))"
   ]
  },
  {
   "cell_type": "markdown",
   "metadata": {},
   "source": [
    "## SVM"
   ]
  },
  {
   "cell_type": "code",
   "execution_count": 46,
   "metadata": {},
   "outputs": [
    {
     "name": "stdout",
     "output_type": "stream",
     "text": [
      "Confusion Matrix for 3 predictor  SVM\n",
      "[[58209   132]\n",
      " [    1 15176]]\n",
      "====================================\n",
      "Classification_report for 3 predictor SVM\n",
      "              precision    recall  f1-score   support\n",
      "\n",
      "           0       1.00      1.00      1.00     58341\n",
      "           1       0.99      1.00      1.00     15177\n",
      "\n",
      "    accuracy                           1.00     73518\n",
      "   macro avg       1.00      1.00      1.00     73518\n",
      "weighted avg       1.00      1.00      1.00     73518\n",
      "\n"
     ]
    }
   ],
   "source": [
    "# SVM model\n",
    "from sklearn.svm import SVC\n",
    "svc = SVC(decision_function_shape='ovo')\n",
    "svc.fit(X_train, y_train)\n",
    "svc_pred = svc.predict(X_test)\n",
    "print(\"Confusion Matrix for 3 predictor  SVM\")\n",
    "print(confusion_matrix(y_test, svc_pred))\n",
    "print(\"====================================\")\n",
    "print(\"Classification_report for 3 predictor SVM\")\n",
    "print(classification_report(y_test, svc_pred))"
   ]
  },
  {
   "cell_type": "markdown",
   "metadata": {},
   "source": [
    "#### Cross validation"
   ]
  },
  {
   "cell_type": "code",
   "execution_count": 47,
   "metadata": {},
   "outputs": [],
   "source": [
    "from sklearn.model_selection import cross_val_score\n",
    "from sklearn.model_selection import KFold \n",
    "folds = 5\n",
    "kf = KFold(n_splits=folds,shuffle=True)"
   ]
  },
  {
   "cell_type": "code",
   "execution_count": 48,
   "metadata": {},
   "outputs": [
    {
     "data": {
      "text/plain": [
       "0.9187740057548295"
      ]
     },
     "execution_count": 48,
     "metadata": {},
     "output_type": "execute_result"
    }
   ],
   "source": [
    "logmodel = LogisticRegression()#  k-fold cross validation for Logistic Regression\n",
    "log_kfscore = cross_val_score(logmodel,X,y,cv=kf, scoring = \"accuracy\").mean()\n",
    "log_kfscore"
   ]
  },
  {
   "cell_type": "code",
   "execution_count": 49,
   "metadata": {},
   "outputs": [
    {
     "data": {
      "text/plain": [
       "0.9995919323390747"
      ]
     },
     "execution_count": 49,
     "metadata": {},
     "output_type": "execute_result"
    }
   ],
   "source": [
    "#  k-fold cross validation KNN\n",
    "knn = KNeighborsClassifier(n_neighbors=3)\n",
    "knn_kfscore = cross_val_score(knn,X,y,cv=kf, scoring = \"accuracy\").mean()\n",
    "knn_kfscore"
   ]
  },
  {
   "cell_type": "code",
   "execution_count": 50,
   "metadata": {},
   "outputs": [
    {
     "data": {
      "text/plain": [
       "0.9995756093062607"
      ]
     },
     "execution_count": 50,
     "metadata": {},
     "output_type": "execute_result"
    }
   ],
   "source": [
    "rfc= RandomForestClassifier(n_estimators=100)#  k-fold cross validation for Random Forest \n",
    "rfc_kfscore = cross_val_score(rfc,X,y,cv=kf, scoring = \"accuracy\").mean()\n",
    "rfc_kfscore"
   ]
  },
  {
   "cell_type": "code",
   "execution_count": 51,
   "metadata": {},
   "outputs": [
    {
     "data": {
      "text/plain": [
       "0.999579689523277"
      ]
     },
     "execution_count": 51,
     "metadata": {},
     "output_type": "execute_result"
    }
   ],
   "source": [
    "svc = SVC(decision_function_shape='ovo') # k-fold cross validation fro SVM\n",
    "knn_kfscore = cross_val_score(knn,X,y,cv=kf, scoring = \"accuracy\").mean()\n",
    "knn_kfscore"
   ]
  },
  {
   "cell_type": "code",
   "execution_count": 52,
   "metadata": {},
   "outputs": [],
   "source": [
    "cv = {}"
   ]
  },
  {
   "cell_type": "markdown",
   "metadata": {},
   "source": [
    "#### ROC curve"
   ]
  },
  {
   "cell_type": "code",
   "execution_count": 53,
   "metadata": {
    "scrolled": true
   },
   "outputs": [],
   "source": [
    "import sklearn.metrics as metrics\n",
    "from sklearn.metrics import roc_curve, auc, roc_auc_score\n",
    "\n",
    "logreg = logmodel.fit(X_train, y_train).predict_proba(X_test) \n",
    "fpr1, tpr1, threshold = metrics.roc_curve(y_test, logreg[:, 1])\n",
    "roc_auc1 = metrics.auc(fpr1, tpr1)\n",
    "\n",
    "knnprob = knn.fit(X_train, y_train).predict_proba(X_test) \n",
    "fpr2, tpr2, threshold = metrics.roc_curve(y_test, knnprob[:, 1])\n",
    "roc_auc2 = metrics.auc(fpr2, tpr2)\n",
    "\n",
    "rfcprob = rfc.fit(X_train, y_train).predict_proba(X_test) \n",
    "fpr3, tpr3, threshold = metrics.roc_curve(y_test, rfcprob[:, 1])\n",
    "roc_auc3 = metrics.auc(fpr3, tpr3)\n",
    "\n",
    "clf=SVC(probability=True)\n",
    "svcprob = clf.fit(X_train, y_train).predict_proba(X_test) \n",
    "fpr4, tpr4, threshold = metrics.roc_curve(y_test, svcprob[:, 1])\n",
    "roc_auc4 = metrics.auc(fpr4, tpr4)\n"
   ]
  },
  {
   "cell_type": "code",
   "execution_count": 54,
   "metadata": {
    "scrolled": false
   },
   "outputs": [
    {
     "data": {
      "image/png": "[encoded data removed]",
      "text/plain": [
       "<Figure size 720x576 with 1 Axes>"
      ]
     },
     "metadata": {
      "needs_background": "light"
     },
     "output_type": "display_data"
    }
   ],
   "source": [
    "plt.figure(figsize=(10,8))\n",
    "plt.title('ROC Curve')\n",
    "plt.plot(fpr1, tpr1, 'b', label = 'AUC of Logistic = %0.7f' % roc_auc1) \n",
    "plt.plot(fpr2, tpr2,  'g', label = 'AUC of KNN= %0.7f' % roc_auc2)\n",
    "plt.plot(fpr3, tpr3, 'brown',  label = 'AUC of Decision Tree= %0.7f' % roc_auc3)\n",
    "plt.plot(fpr4, tpr4, 'pink', label = 'AUC of SVM= %0.7f' % roc_auc4)\n",
    "plt.legend(loc = 'lower right')\n",
    "plt.ylabel('True Positive Rate')\n",
    "plt.xlabel('False Positive Rate')\n",
    "plt.show()"
   ]
  },
  {
   "cell_type": "markdown",
   "metadata": {},
   "source": [
    "## Fine-tune your models & Feature Set:\n",
    "Evaluate your models using test set. Fine-tune your model, and optimize\n",
    "feature set."
   ]
  },
  {
   "cell_type": "markdown",
   "metadata": {},
   "source": [
    "##### After Normalization(logistic regression)"
   ]
  },
  {
   "cell_type": "code",
   "execution_count": 55,
   "metadata": {
    "scrolled": true
   },
   "outputs": [
    {
     "name": "stdout",
     "output_type": "stream",
     "text": [
      "              precision    recall  f1-score   support\n",
      "\n",
      "           0       0.95      0.94      0.95     58341\n",
      "           1       0.79      0.83      0.81     15177\n",
      "\n",
      "    accuracy                           0.92     73518\n",
      "   macro avg       0.87      0.89      0.88     73518\n",
      "weighted avg       0.92      0.92      0.92     73518\n",
      "\n",
      "[[55077  3264]\n",
      " [ 2641 12536]]\n"
     ]
    }
   ],
   "source": [
    "from sklearn.linear_model import LogisticRegression\n",
    "logmodel = LogisticRegression()\n",
    "fit_model = logmodel.fit(scaled_X_train,scaled_y_train)\n",
    "scaled_pred = logmodel.predict(scaled_X_test)\n",
    "print(classification_report(scaled_y_test,scaled_pred))\n",
    "print(confusion_matrix(scaled_y_test,scaled_pred))"
   ]
  },
  {
   "cell_type": "code",
   "execution_count": 56,
   "metadata": {},
   "outputs": [],
   "source": [
    "error_rate=[]  # choose the best k within 1 to 20\n",
    "for i in range(1,20):\n",
    "    knn= KNeighborsClassifier(n_neighbors=i)\n",
    "    knn.fit(scaled_X_train,scaled_y_train)\n",
    "    pred_i = knn.predict(scaled_X_test)\n",
    "    error_rate.append(np.mean(pred_i !=scaled_y_test))"
   ]
  },
  {
   "cell_type": "code",
   "execution_count": 58,
   "metadata": {},
   "outputs": [
    {
     "data": {
      "text/plain": [
       "Text(0, 0.5, 'Error Rate')"
      ]
     },
     "execution_count": 58,
     "metadata": {},
     "output_type": "execute_result"
    },
    {
     "data": {
      "image/png": "[encoded data removed]",
      "text/plain": [
       "<Figure size 720x432 with 1 Axes>"
      ]
     },
     "metadata": {
      "needs_background": "light"
     },
     "output_type": "display_data"
    }
   ],
   "source": [
    "plt.figure(figsize=(10,6)) \n",
    "plt.plot(range(1,20), error_rate, color=\"blue\",marker=\"o\", markerfacecolor=\"red\", markersize=10)\n",
    "plt.title(\"Error Rate vs K value\")\n",
    "plt.xlabel(\"K\")\n",
    "plt.ylabel(\"Error Rate\")"
   ]
  },
  {
   "cell_type": "code",
   "execution_count": 59,
   "metadata": {},
   "outputs": [
    {
     "name": "stdout",
     "output_type": "stream",
     "text": [
      "[[58309    32]\n",
      " [    5 15172]]\n",
      "              precision    recall  f1-score   support\n",
      "\n",
      "           0       1.00      1.00      1.00     58341\n",
      "           1       1.00      1.00      1.00     15177\n",
      "\n",
      "    accuracy                           1.00     73518\n",
      "   macro avg       1.00      1.00      1.00     73518\n",
      "weighted avg       1.00      1.00      1.00     73518\n",
      "\n"
     ]
    }
   ],
   "source": [
    "knn3= KNeighborsClassifier(n_neighbors= 3) \n",
    "knn3.fit(scaled_X_train,scaled_y_train)\n",
    "knn3_pred = knn3.predict(scaled_X_test)\n",
    "print(confusion_matrix(scaled_y_test, knn3_pred))\n",
    "print(classification_report(scaled_y_test,knn3_pred))"
   ]
  },
  {
   "cell_type": "markdown",
   "metadata": {},
   "source": [
    "# Performance:\n",
    "Measure the performance of your classifiers using different metrics"
   ]
  },
  {
   "cell_type": "code",
   "execution_count": 60,
   "metadata": {},
   "outputs": [],
   "source": [
    "X1= skin[['B',  'G']]\n",
    "y1 = skin[\"skin_nonskin\"]\n",
    "X1_train, X1_test, y1_train, y1_test = train_test_split(X1, y1, test_size=0.3, random_state=101)"
   ]
  },
  {
   "cell_type": "code",
   "execution_count": 61,
   "metadata": {},
   "outputs": [],
   "source": [
    "X2= skin[[\"R\", 'G']]\n",
    "y2 = skin[\"skin_nonskin\"]\n",
    "X2_train, X2_test, y2_train, y2_test = train_test_split(X2, y2, test_size=0.3, random_state=101)"
   ]
  },
  {
   "cell_type": "code",
   "execution_count": 62,
   "metadata": {},
   "outputs": [],
   "source": [
    "X3= skin[['B', \"R\"]]\n",
    "y3 = skin[\"skin_nonskin\"]\n",
    "X3_train, X3_test, y3_train, y3_test = train_test_split(X3, y3, test_size=0.3, random_state=101)"
   ]
  },
  {
   "cell_type": "markdown",
   "metadata": {},
   "source": [
    "### Performance testing for SVM with two predictors"
   ]
  },
  {
   "cell_type": "code",
   "execution_count": 63,
   "metadata": {},
   "outputs": [
    {
     "name": "stdout",
     "output_type": "stream",
     "text": [
      "SVM Confusion Matrix for bolumn B and G\n",
      "[[56882  1459]\n",
      " [   26 15151]]\n",
      "====================================\n",
      "SVM Classification_report for 3 predictor SVM\n",
      "              precision    recall  f1-score   support\n",
      "\n",
      "           0       1.00      0.97      0.99     58341\n",
      "           1       0.91      1.00      0.95     15177\n",
      "\n",
      "    accuracy                           0.98     73518\n",
      "   macro avg       0.96      0.99      0.97     73518\n",
      "weighted avg       0.98      0.98      0.98     73518\n",
      "\n"
     ]
    }
   ],
   "source": [
    "from sklearn.svm import SVC\n",
    "svc = SVC()\n",
    "svc.fit(X1_train, y1_train)\n",
    "svc1_pred = svc.predict(X1_test)\n",
    "print(\"SVM Confusion Matrix for bolumn B and G\")\n",
    "print(confusion_matrix(y1_test, svc1_pred))\n",
    "print(\"====================================\")\n",
    "print(\"SVM Classification_report for 3 predictor SVM\")\n",
    "print(classification_report(y1_test, svc1_pred))"
   ]
  },
  {
   "cell_type": "code",
   "execution_count": 64,
   "metadata": {},
   "outputs": [
    {
     "name": "stdout",
     "output_type": "stream",
     "text": [
      "Confusion Matrix for columns R and G\n",
      "[[57462   879]\n",
      " [   45 15132]]\n",
      "====================================\n",
      "Classification_report for  columns R and G\n",
      "              precision    recall  f1-score   support\n",
      "\n",
      "           0       1.00      1.00      1.00     58341\n",
      "           1       0.99      1.00      1.00     15177\n",
      "\n",
      "    accuracy                           1.00     73518\n",
      "   macro avg       1.00      1.00      1.00     73518\n",
      "weighted avg       1.00      1.00      1.00     73518\n",
      "\n"
     ]
    }
   ],
   "source": [
    "svc.fit(X2_train, y2_train)\n",
    "svc2_pred = svc.predict(X2_test)\n",
    "print(\"Confusion Matrix for columns R and G\")\n",
    "print(confusion_matrix(y2_test, svc2_pred))\n",
    "print(\"====================================\")\n",
    "print(\"Classification_report for  columns R and G\")\n",
    "print(classification_report(y2_test, svc_pred))"
   ]
  },
  {
   "cell_type": "code",
   "execution_count": 65,
   "metadata": {},
   "outputs": [
    {
     "name": "stdout",
     "output_type": "stream",
     "text": [
      "Confusion Matrix for columns R and B\n",
      "[[56970  1371]\n",
      " [ 1140 14037]]\n",
      "====================================\n",
      "Classification_report for  columns R and B\n",
      "              precision    recall  f1-score   support\n",
      "\n",
      "           0       0.98      0.98      0.98     58341\n",
      "           1       0.91      0.92      0.92     15177\n",
      "\n",
      "    accuracy                           0.97     73518\n",
      "   macro avg       0.95      0.95      0.95     73518\n",
      "weighted avg       0.97      0.97      0.97     73518\n",
      "\n"
     ]
    }
   ],
   "source": [
    "svc.fit(X3_train, y3_train)\n",
    "svc3_pred = svc.predict(X3_test)\n",
    "print(\"Confusion Matrix for columns R and B\")\n",
    "print(confusion_matrix(y3_test, svc3_pred))\n",
    "print(\"====================================\")\n",
    "print(\"Classification_report for  columns R and B\")\n",
    "print(classification_report(y3_test, svc3_pred))"
   ]
  },
  {
   "cell_type": "markdown",
   "metadata": {},
   "source": [
    "### Performance testing for KNN 3 neighbors with  2  predictors"
   ]
  },
  {
   "cell_type": "code",
   "execution_count": 66,
   "metadata": {},
   "outputs": [
    {
     "name": "stdout",
     "output_type": "stream",
     "text": [
      "KNN Confusion Matrix for columns B and G\n",
      "[[57802   539]\n",
      " [  343 14834]]\n",
      "====================================\n",
      "KNN Classification_report for  columns B and G\n",
      "              precision    recall  f1-score   support\n",
      "\n",
      "           0       0.99      0.99      0.99     58341\n",
      "           1       0.96      0.98      0.97     15177\n",
      "\n",
      "    accuracy                           0.99     73518\n",
      "   macro avg       0.98      0.98      0.98     73518\n",
      "weighted avg       0.99      0.99      0.99     73518\n",
      "\n"
     ]
    }
   ],
   "source": [
    "knn3= KNeighborsClassifier(n_neighbors= 3) \n",
    "knn3.fit(X1_train,y1_train)\n",
    "k1_pred = knn3.predict(X1_test)\n",
    "print(\"KNN Confusion Matrix for columns B and G\")\n",
    "print(confusion_matrix(y1_test, k1_pred))\n",
    "print(\"====================================\")\n",
    "print(\"KNN Classification_report for  columns B and G\")\n",
    "print(classification_report(y1_test,k1_pred))"
   ]
  },
  {
   "cell_type": "code",
   "execution_count": 67,
   "metadata": {},
   "outputs": [
    {
     "name": "stdout",
     "output_type": "stream",
     "text": [
      "KNN Confusion Matrix for columns R and G\n",
      "[[57867   474]\n",
      " [  192 14985]]\n",
      "====================================\n",
      "KNN Classification_report for  columns R and G\n",
      "              precision    recall  f1-score   support\n",
      "\n",
      "           0       1.00      0.99      0.99     58341\n",
      "           1       0.97      0.99      0.98     15177\n",
      "\n",
      "    accuracy                           0.99     73518\n",
      "   macro avg       0.98      0.99      0.99     73518\n",
      "weighted avg       0.99      0.99      0.99     73518\n",
      "\n"
     ]
    }
   ],
   "source": [
    "knn3= KNeighborsClassifier(n_neighbors= 3) \n",
    "knn3.fit(X2_train,y2_train)\n",
    "k2_pred = knn3.predict(X2_test)\n",
    "print(\"KNN Confusion Matrix for columns R and G\")\n",
    "print(confusion_matrix(y2_test, k2_pred))\n",
    "print(\"====================================\")\n",
    "print(\"KNN Classification_report for  columns R and G\")\n",
    "print(classification_report(y2_test,k2_pred))"
   ]
  },
  {
   "cell_type": "code",
   "execution_count": 68,
   "metadata": {},
   "outputs": [
    {
     "name": "stdout",
     "output_type": "stream",
     "text": [
      "KNN Confusion Matrix for columns R and B\n",
      "[[57083  1258]\n",
      " [  792 14385]]\n",
      "====================================\n",
      "Classification_report for  columns R and B\n",
      "              precision    recall  f1-score   support\n",
      "\n",
      "           0       0.99      0.98      0.98     58341\n",
      "           1       0.92      0.95      0.93     15177\n",
      "\n",
      "    accuracy                           0.97     73518\n",
      "   macro avg       0.95      0.96      0.96     73518\n",
      "weighted avg       0.97      0.97      0.97     73518\n",
      "\n"
     ]
    }
   ],
   "source": [
    "knn3= KNeighborsClassifier(n_neighbors= 3) \n",
    "knn3.fit(X3_train,y3_train)\n",
    "k3_pred = knn3.predict(X3_test)\n",
    "print(\"KNN Confusion Matrix for columns R and B\")\n",
    "print(confusion_matrix(y3_test, k3_pred))\n",
    "print(\"====================================\")\n",
    "print(\"Classification_report for  columns R and B\")\n",
    "print(classification_report(y3_test,k3_pred))"
   ]
  }
 ],
 "metadata": {
  "kernelspec": {
   "display_name": "Python 3",
   "language": "python",
   "name": "python3"
  },
  "language_info": {
   "codemirror_mode": {
    "name": "ipython",
    "version": 3
   },
   "file_extension": ".py",
   "mimetype": "text/x-python",
   "name": "python",
   "nbconvert_exporter": "python",
   "pygments_lexer": "ipython3",
   "version": "3.10.1"
  }
 },
 "nbformat": 4,
 "nbformat_minor": 4
}
